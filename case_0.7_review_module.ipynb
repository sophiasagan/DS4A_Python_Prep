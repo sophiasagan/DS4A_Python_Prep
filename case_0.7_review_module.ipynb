{
 "cells": [
  {
   "cell_type": "markdown",
   "metadata": {
    "deletable": false,
    "editable": false,
    "nbgrader": {
     "cell_type": "markdown",
     "checksum": "9c94cbf0a1e50d09000ec025c60f0176",
     "grade": false,
     "grade_id": "cell-a651a06472154a3e",
     "locked": true,
     "schema_version": 3,
     "solution": false,
     "task": false
    }
   },
   "source": [
    "# Review module"
   ]
  },
  {
   "cell_type": "markdown",
   "metadata": {
    "deletable": false,
    "editable": false,
    "nbgrader": {
     "cell_type": "markdown",
     "checksum": "1e84db571981e108c305916fb080b6d5",
     "grade": false,
     "grade_id": "cell-10a1ee075314ff3c",
     "locked": true,
     "schema_version": 3,
     "solution": false,
     "task": false
    }
   },
   "source": [
    "## Part 1\n",
    "\n",
    "For this first part, please uncomment the letter of the choice which you think is correct."
   ]
  },
  {
   "cell_type": "markdown",
   "metadata": {
    "deletable": false,
    "editable": false,
    "nbgrader": {
     "cell_type": "markdown",
     "checksum": "f88b7108b5100da673778d8456a720c4",
     "grade": false,
     "grade_id": "cell-d504f86d37a9c30e",
     "locked": true,
     "schema_version": 3,
     "solution": false,
     "task": false
    }
   },
   "source": [
    "### Exercise 1\n",
    "\n",
    "The first thing you should do when you are planning on using a new package or function from a package is to...\n",
    "\n",
    "A. read the documentation\n",
    "\n",
    "B. import it into your code\n",
    "\n",
    "C. ask your friend who knows about the package to help\n",
    "\n",
    "D. try to find an alternative way of solving your problem; packages should generally be avoided unless absolutely necessary"
   ]
  },
  {
   "cell_type": "code",
   "execution_count": 1,
   "metadata": {
    "deletable": false,
    "nbgrader": {
     "cell_type": "code",
     "checksum": "f275839ef05ca581899f75fbc2b6d245",
     "grade": false,
     "grade_id": "cell-cac5f55b27c1d040",
     "locked": false,
     "schema_version": 3,
     "solution": true,
     "task": false
    }
   },
   "outputs": [],
   "source": [
    "def ex_1():\n",
    "    \"\"\"Returns the option chosen by the fellow.\n",
    "    \"\"\"\n",
    "    answer = \"A\"\n",
    "    #answer = \"B\"\n",
    "    #answer = \"C\"\n",
    "    #answer = \"D\"\n",
    "    \n",
    "    # YOUR CODE HERE\n",
    "    \n",
    "    return answer"
   ]
  },
  {
   "cell_type": "markdown",
   "metadata": {
    "deletable": false,
    "editable": false,
    "nbgrader": {
     "cell_type": "markdown",
     "checksum": "9642719a3f9fb3e085ef3f5c6cf465e1",
     "grade": false,
     "grade_id": "cell-437c6b649e5248ed",
     "locked": true,
     "schema_version": 3,
     "solution": false,
     "task": false
    }
   },
   "source": [
    "### Exercise 2\n",
    "\n",
    "After reading the documentation, the next two steps you should take (in order) when trying to fix something you are stuck on are...\n",
    "\n",
    "A. going to Stack Overflow and then reaching out to others\n",
    "\n",
    "B. asking your TA and then asking your peers\n",
    "\n",
    "C. asking your peers and then going to Stack Overflow\n",
    "\n",
    "D. asking your co-workers and then asking your boss"
   ]
  },
  {
   "cell_type": "code",
   "execution_count": 3,
   "metadata": {
    "deletable": false,
    "nbgrader": {
     "cell_type": "code",
     "checksum": "431872307ebbac9f5dff8b85066d8615",
     "grade": false,
     "grade_id": "cell-eaf3303f896acbcf",
     "locked": false,
     "schema_version": 3,
     "solution": true,
     "task": false
    }
   },
   "outputs": [],
   "source": [
    "def ex_2():\n",
    "    \"\"\"Returns the option chosen by the fellow.\n",
    "    \"\"\"\n",
    "    answer = \"A\"\n",
    "    #answer = \"B\"\n",
    "    #answer = \"C\"\n",
    "    #answer = \"D\"\n",
    "    \n",
    "    # YOUR CODE HERE\n",
    "    \n",
    "    return answer"
   ]
  },
  {
   "cell_type": "markdown",
   "metadata": {
    "deletable": false,
    "editable": false,
    "nbgrader": {
     "cell_type": "markdown",
     "checksum": "095e3046df628d2967250b45edee4933",
     "grade": false,
     "grade_id": "cell-51c5be6706220ae4",
     "locked": true,
     "schema_version": 3,
     "solution": false,
     "task": false
    }
   },
   "source": [
    "## Part 2\n",
    "\n",
    "**Instructions**\n",
    "\n",
    "For this second part, the exercises will require you to write simple snippets of code. In order to complete this part, we recommend you follow these instructions:\n",
    "\n",
    "1. Complete the functions provided to you in this notebook, but do **not** change the name of the function or the name(s) of the argument(s). If you do that, the autograder will fail and you will not receive any points.\n",
    "2. Run all the function-definition cells before you run the testing cells. The functions must exist before they are graded!\n",
    "3. Read the function docstrings carefully. They contain additional information about how the code should look (a [docstring](https://www.datacamp.com/community/tutorials/docstrings-python) is the stuff that comes between the triple quotes).\n",
    "4. Some functions may require several outputs (the docstrings tell you which ones). Make sure they are returned in the right order."
   ]
  },
  {
   "cell_type": "markdown",
   "metadata": {
    "deletable": false,
    "editable": false,
    "nbgrader": {
     "cell_type": "markdown",
     "checksum": "30b0df2ecd3c46eff8a98ab73ff88a19",
     "grade": false,
     "grade_id": "cell-ff44221f245a696a",
     "locked": true,
     "schema_version": 3,
     "solution": false,
     "task": false
    }
   },
   "source": [
    "### Exercise 3\n",
    "\n",
    "Write code that imports the `datetime` package from the standard library. Then, make it return the name of the day of the week of any date you pass to it (as a string, like \"Monday\"):"
   ]
  },
  {
   "cell_type": "code",
   "execution_count": 5,
   "metadata": {
    "deletable": false,
    "nbgrader": {
     "cell_type": "code",
     "checksum": "39249de1fc96f1fcd2bb86760176adbc",
     "grade": false,
     "grade_id": "cell-29a714e9affec8b5",
     "locked": false,
     "schema_version": 3,
     "solution": true,
     "task": false
    }
   },
   "outputs": [],
   "source": [
    "def print_my_birthday_weekday(m,d,y):\n",
    "    \"\"\"Returns the day of the week of the date passed as an input\n",
    "    \n",
    "    Arguments:\n",
    "    m: Month (as an integer)\n",
    "    d: Day (as an integer)\n",
    "    y: Year (as an integer)\n",
    "    \n",
    "    Outputs:\n",
    "    day: The name of the day as a string, i.e., either\n",
    "    'Monday', 'Tuesday', 'Wednesday', 'Thursday', 'Friday',\n",
    "    'Saturday', or 'Sunday'\n",
    "    \n",
    "    Example:\n",
    "    If you input 12,7,1991, `day` should be 'Saturday'\n",
    "    \"\"\"\n",
    "    days = ['Monday', 'Tuesday', 'Wednesday', 'Thursday', 'Friday', 'Saturday', 'Sunday']\n",
    "    \n",
    "    # YOUR CODE HERE\n",
    "    import datetime\n",
    "    day_of_week = datetime.date(y,m,d).weekday()\n",
    "    day = days[day_of_week]\n",
    "    \n",
    "    return day"
   ]
  },
  {
   "cell_type": "markdown",
   "metadata": {
    "deletable": false,
    "editable": false,
    "nbgrader": {
     "cell_type": "markdown",
     "checksum": "4e9ce1a0667d9e99f9a6128091e6825c",
     "grade": false,
     "grade_id": "cell-9236c1db9e665b33",
     "locked": true,
     "schema_version": 3,
     "solution": false,
     "task": false
    }
   },
   "source": [
    "### Exercise 4\n",
    "\n",
    "Write code that imports the `numpy` package and uses it to return the value of $\\pi$ (pi)."
   ]
  },
  {
   "cell_type": "code",
   "execution_count": 7,
   "metadata": {
    "deletable": false,
    "nbgrader": {
     "cell_type": "code",
     "checksum": "1e695fa51ced97f96509736bcadb4003",
     "grade": false,
     "grade_id": "cell-ecce535f943efc5a",
     "locked": false,
     "schema_version": 3,
     "solution": true,
     "task": false
    }
   },
   "outputs": [],
   "source": [
    "def return_pi():\n",
    "    \"\"\"Returns pi (a float)\n",
    "    \"\"\"\n",
    "    \n",
    "    # YOUR CODE HERE\n",
    "    import numpy\n",
    "    \n",
    "    pi = numpy.pi\n",
    "    return pi"
   ]
  },
  {
   "cell_type": "markdown",
   "metadata": {
    "deletable": false,
    "editable": false,
    "nbgrader": {
     "cell_type": "markdown",
     "checksum": "240db28956e0bd4542110e186aabe180",
     "grade": false,
     "grade_id": "cell-901fcede6611476f",
     "locked": true,
     "schema_version": 3,
     "solution": false,
     "task": false
    }
   },
   "source": [
    "## Testing Cells\n",
    "\n",
    "Run the below cells to check your answers. Make sure you run your solution cells first before running the cells below, otherwise you will get a `NameError` when checking your answers."
   ]
  },
  {
   "cell_type": "code",
   "execution_count": 2,
   "metadata": {
    "deletable": false,
    "editable": false,
    "nbgrader": {
     "cell_type": "code",
     "checksum": "86c5d968f59340e74992ff6410b91ccc",
     "grade": true,
     "grade_id": "cell-05b4cc2a8cdf33e1",
     "locked": true,
     "points": 1,
     "schema_version": 3,
     "solution": false,
     "task": false
    }
   },
   "outputs": [
    {
     "name": "stdout",
     "output_type": "stream",
     "text": [
      "Exercise 1 seems correct!\n"
     ]
    }
   ],
   "source": [
    "# Ex. 1\n",
    "assert ord(ex_1()) == 65, \"Ex. 1 - Think again! What is the very first thing you must do before you use a package?\"\n",
    "print(\"Exercise 1 seems correct!\")"
   ]
  },
  {
   "cell_type": "code",
   "execution_count": 4,
   "metadata": {
    "deletable": false,
    "editable": false,
    "nbgrader": {
     "cell_type": "code",
     "checksum": "01e24775f11cd45e7a39b7b5b0568111",
     "grade": true,
     "grade_id": "cell-c2a49990bbe407b6",
     "locked": true,
     "points": 1,
     "schema_version": 3,
     "solution": false,
     "task": false
    }
   },
   "outputs": [
    {
     "name": "stdout",
     "output_type": "stream",
     "text": [
      "Exercise 2 seems correct!\n"
     ]
    }
   ],
   "source": [
    "# Ex. 2\n",
    "assert int(ex_2().encode('utf-8').hex()) == 41, \"Ex. 2 - Any of the options is good, really, but which one is the most efficient?\"\n",
    "print(\"Exercise 2 seems correct!\")"
   ]
  },
  {
   "cell_type": "code",
   "execution_count": 6,
   "metadata": {
    "deletable": false,
    "editable": false,
    "nbgrader": {
     "cell_type": "code",
     "checksum": "4465d9caf7e8447eab5fe18af874e7b4",
     "grade": true,
     "grade_id": "cell-c6bcc541b23b37e1",
     "locked": true,
     "points": 1,
     "schema_version": 3,
     "solution": false,
     "task": false
    }
   },
   "outputs": [
    {
     "name": "stdout",
     "output_type": "stream",
     "text": [
      "Exercise 3 seems correct!\n"
     ]
    }
   ],
   "source": [
    "# Ex. 3\n",
    "assert print_my_birthday_weekday(12,7,1991) == 'Saturday', \"Ex. 3 - Your function failed the test with Dec 7, 1991. What could've gone wrong? If you're stuck, remember you can always scour Stack Overflow to find solutions!\"\n",
    "assert print_my_birthday_weekday(12,9,1992) == 'Wednesday', \"Ex. 3 - Your function failed the test with Dec 9, 1992. What could've gone wrong? If you're stuck, remember you can always scour Stack Overflow to find solutions!\"\n",
    "print(\"Exercise 3 seems correct!\")"
   ]
  },
  {
   "cell_type": "code",
   "execution_count": 8,
   "metadata": {
    "deletable": false,
    "editable": false,
    "nbgrader": {
     "cell_type": "code",
     "checksum": "aa763fb135023a1dff01958eb0194e65",
     "grade": true,
     "grade_id": "cell-7c1378554c9e3aaa",
     "locked": true,
     "points": 1,
     "schema_version": 3,
     "solution": false,
     "task": false
    }
   },
   "outputs": [
    {
     "name": "stdout",
     "output_type": "stream",
     "text": [
      "Exercise 4 seems correct!\n"
     ]
    }
   ],
   "source": [
    "# Ex. 4\n",
    "import inspect\n",
    "s = inspect.getsource(return_pi)\n",
    "assert (\"import\" in s) & (\"numpy\" in s) & (\"pi\" in s), \"Ex. 4 - Did you import Numpy? Check case 0.7 if you need to review how to import libraries in Python! (Hint: Use the import keyword)\"\n",
    "assert abs(return_pi()*(5**2) - 78.53981633974483) < 0.01, \"Ex. 4 - If you need help finding out how to compute pi using Numpy, why not ask on Stack Overflow?\"\n",
    "print(\"Exercise 4 seems correct!\")"
   ]
  }
 ],
 "metadata": {
  "kernelspec": {
   "display_name": "Python 3",
   "language": "python",
   "name": "python3"
  },
  "language_info": {
   "codemirror_mode": {
    "name": "ipython",
    "version": 3
   },
   "file_extension": ".py",
   "mimetype": "text/x-python",
   "name": "python",
   "nbconvert_exporter": "python",
   "pygments_lexer": "ipython3",
   "version": "3.6.7"
  }
 },
 "nbformat": 4,
 "nbformat_minor": 5
}
