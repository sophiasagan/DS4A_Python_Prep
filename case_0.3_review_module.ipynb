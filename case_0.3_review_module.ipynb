{
 "cells": [
  {
   "cell_type": "markdown",
   "metadata": {
    "deletable": false,
    "editable": false,
    "nbgrader": {
     "cell_type": "markdown",
     "checksum": "3cfeff93e75a55a93c818cc92b892b33",
     "grade": false,
     "grade_id": "cell-70cc8caafd32bda3",
     "locked": true,
     "schema_version": 3,
     "solution": false,
     "task": false
    }
   },
   "source": [
    "# Review module"
   ]
  },
  {
   "cell_type": "markdown",
   "metadata": {
    "deletable": false,
    "editable": false,
    "nbgrader": {
     "cell_type": "markdown",
     "checksum": "f01bf3a258251cf057ec8535b828cb8d",
     "grade": false,
     "grade_id": "cell-300ecd38889e9eff",
     "locked": true,
     "schema_version": 3,
     "solution": false,
     "task": false
    }
   },
   "source": [
    "**Instructions**\n",
    "\n",
    "In order to complete this review module, we recommend you follow these instructions:\n",
    "\n",
    "1. Complete the functions provided to you in this notebook, but do **not** change the name of the function or the name(s) of the argument(s). If you do that, the autograder will fail and you will not receive any points.\n",
    "2. Run all the function-definition cells before you run the testing cells. The functions must exist before they are graded!\n",
    "3. Read the function docstrings carefully. They contain additional information about how the code should look (a [docstring](https://www.datacamp.com/community/tutorials/docstrings-python) is the stuff that comes between the triple quotes).\n",
    "4. Some functions may require several outputs (the docstrings tell you which ones). Make sure they are returned in the right order.\n",
    "\n",
    "**How do functions work?**\n",
    "\n",
    "You probably haven't seen Python functions before, but don't worry, we will be covering them in a future case. For now, the main things you need to know are:\n",
    "\n",
    "1. Write your code as you would usually do, only this time write it inside the function just below the `### Your code here` comment.\n",
    "1. Functions usually start with the `def` keyword and end with `return some_variable` . Don't modify any of these. If you just write your code as we explained above, you'll be good.\n",
    "1. The code you write should be indented.\n",
    "1. The docstring lets you know the name of the variable you will have to return. The `return` statement gives you this information as well. So if, for instance, the function says `return fancy_dict` you must make sure that the variable that you define as your result is also called `fancy_dict`."
   ]
  },
  {
   "cell_type": "markdown",
   "metadata": {
    "deletable": false,
    "editable": false,
    "nbgrader": {
     "cell_type": "markdown",
     "checksum": "8ef8d11993a180e7b576b9eff4a8cef0",
     "grade": false,
     "grade_id": "cell-3e281fe847a057e3",
     "locked": true,
     "schema_version": 3,
     "solution": false,
     "task": false
    },
    "tags": [
     "3_min"
    ]
   },
   "source": [
    "## Exercise 1\n",
    "\n",
    "Make the following checklist into a dictionary. The systems marked with \"yes\" are proprietary, while those with \"no\" are open source. The names of the operating systems should be the keys (copy them exactly). Use [booleans](https://www.w3schools.com/python/python_booleans.asp) for the values.\n",
    "\n",
    "> **Windows**: Yes; **Fire OS:** Yes; **macOS:** Yes; **Linux:** No; **Android:** No; **MS-DOS:** Yes.\n",
    "\n"
   ]
  },
  {
   "cell_type": "code",
   "execution_count": 1,
   "metadata": {
    "deletable": false,
    "nbgrader": {
     "cell_type": "code",
     "checksum": "c3031ac732798e2e9e8228e4370bfcec",
     "grade": false,
     "grade_id": "cell-cf8a32275814aaf9",
     "locked": false,
     "schema_version": 3,
     "solution": true,
     "task": false
    }
   },
   "outputs": [],
   "source": [
    "def create_dictionary():\n",
    "    \"\"\"\n",
    "    Create a dictionary.\n",
    "    \n",
    "    Arguments:\n",
    "    None.\n",
    "    \n",
    "    Output:\n",
    "    `my_dict`: A dictionary.\n",
    "    \n",
    "    \"\"\"\n",
    "    \n",
    "    # YOUR CODE HERE\n",
    "    my_dict={\n",
    "        \"Windows\": True,\n",
    "        \"Fire OS\": True,\n",
    "        \"macOS\": True,\n",
    "        \"Linux\": False,\n",
    "        \"Android\": False,\n",
    "        \"MS-DOS\": True        \n",
    "    }\n",
    "    \n",
    "    \n",
    "    return my_dict"
   ]
  },
  {
   "cell_type": "markdown",
   "metadata": {
    "deletable": false,
    "editable": false,
    "nbgrader": {
     "cell_type": "markdown",
     "checksum": "a4c100465655405836df59d84e8f6736",
     "grade": false,
     "grade_id": "cell-53ff212d77b10490",
     "locked": true,
     "schema_version": 3,
     "solution": false,
     "task": false
    },
    "tags": [
     "7_min"
    ]
   },
   "source": [
    "## Exercise 2\n",
    "\n",
    "In the function below you will find a list definition (`list_dup`). Write code to:\n",
    "\n",
    "1. Remove the duplicate values.\n",
    "2. [Sort](https://www.programiz.com/python-programming/methods/list/sort#) the items of the list in ascending alphabetical order.\n",
    "\n",
    "The resulting list should be called `list_clean`."
   ]
  },
  {
   "cell_type": "code",
   "execution_count": 31,
   "metadata": {
    "deletable": false,
    "nbgrader": {
     "cell_type": "code",
     "checksum": "efdd6601c18ab0f3f279ed5f2827c73d",
     "grade": false,
     "grade_id": "cell-fe7768571ff8d9de",
     "locked": false,
     "schema_version": 3,
     "solution": true,
     "task": false
    }
   },
   "outputs": [],
   "source": [
    "def remove_dups_and_sort():\n",
    "    \"\"\"\n",
    "    Remove the duplicates in the list below and then sort it\n",
    "    alphabetically.\n",
    "    \n",
    "    Arguments:\n",
    "    None.\n",
    "    \n",
    "    Outputs:\n",
    "    `list_clean`: A sorted Python list with no duplicates.\n",
    "    \"\"\"\n",
    "    \n",
    "    list_dup = [\"Defeat\", \"Defeat\", \"Turn of phrase\", \"Bob\", \"Cannot\",\n",
    "                \"Eddy's\", \"Ana\", \"Bob\", \"Turn of phrase\", \"And\", \"Fantastic\",\n",
    "                \"Bob\", \"Turn of phrase\", \"Cannot\", \"Defeat\", \"Fantastic\", \"Eddy's\"]\n",
    "    \n",
    "    # YOUR CODE HERE\n",
    "    unique_set=set(list_dup)\n",
    "    unique_list=list(unique_set)\n",
    "    \n",
    "    list_clean = (sorted(unique_list))\n",
    "    \n",
    "    return list_clean"
   ]
  },
  {
   "cell_type": "markdown",
   "metadata": {
    "deletable": false,
    "editable": false,
    "nbgrader": {
     "cell_type": "markdown",
     "checksum": "b80b0316cf0798ae52b9f2445d85486d",
     "grade": false,
     "grade_id": "cell-b00ba4097431cf94",
     "locked": true,
     "schema_version": 3,
     "solution": false,
     "task": false
    },
    "tags": [
     "5_min"
    ]
   },
   "source": [
    "## Exercise 3\n",
    "\n",
    "Code these two expressions as sets:\n",
    "\n",
    "$$ A = \\{1,2,3\\}$$\n",
    "\n",
    "$$ B = \\{2,3,4,5\\}$$\n",
    "\n",
    "Find their intersection.\n",
    "\n",
    "**Hint:** Remember the Venn diagram of an intersection:\n",
    "\n",
    "![Venn diagram of an intersection](data/images/intersection_two.png)"
   ]
  },
  {
   "cell_type": "code",
   "execution_count": 35,
   "metadata": {
    "deletable": false,
    "nbgrader": {
     "cell_type": "code",
     "checksum": "50206b88b1c739b9a99e66fc13943e26",
     "grade": false,
     "grade_id": "cell-de3938e1c0457316",
     "locked": false,
     "schema_version": 3,
     "solution": true,
     "task": false
    }
   },
   "outputs": [],
   "source": [
    "def intersection_two_sets():\n",
    "    \"\"\"\n",
    "    Return the intersection of sets A and B.\n",
    "    \n",
    "    Arguments:\n",
    "    None.\n",
    "    \n",
    "    Outputs:\n",
    "    `inter` = A Python set.\n",
    "    \"\"\"\n",
    "    \n",
    "    # YOUR CODE HERE\n",
    "    A = {1, 2, 3}\n",
    "    B = {2, 3, 4, 5}\n",
    "    inter = A & B\n",
    "    return inter"
   ]
  },
  {
   "cell_type": "markdown",
   "metadata": {
    "deletable": false,
    "editable": false,
    "nbgrader": {
     "cell_type": "markdown",
     "checksum": "7f7a1b69d060db6fdaa2f35dcfbd4a9c",
     "grade": false,
     "grade_id": "cell-344225853ba0b2a3",
     "locked": true,
     "schema_version": 3,
     "solution": false,
     "task": false
    }
   },
   "source": [
    "## Exercise 4\n",
    "\n",
    "Do the same as in Exercise 3, but instead of finding the intersection of $A$ and $B$, find their union.\n",
    "\n",
    "**Hint:** Remember the Venn diagram of a union:\n",
    "\n",
    "![Venn diagram of an intersection](data/images/union.png)"
   ]
  },
  {
   "cell_type": "code",
   "execution_count": 39,
   "metadata": {
    "deletable": false,
    "nbgrader": {
     "cell_type": "code",
     "checksum": "c3c437e42b0e21dcd5b93ab5991f099a",
     "grade": false,
     "grade_id": "cell-9ab79188a11089ba",
     "locked": false,
     "schema_version": 3,
     "solution": true,
     "task": false
    }
   },
   "outputs": [],
   "source": [
    "def union_two_sets():\n",
    "    \"\"\"\n",
    "    Return the union of sets A and B.\n",
    "    \n",
    "    Arguments:\n",
    "    None.\n",
    "    \n",
    "    Outputs:\n",
    "    `uni` = A Python set.\n",
    "    \"\"\"\n",
    "    \n",
    "    # YOUR CODE HERE\n",
    "    A = {1, 2, 3}\n",
    "    B = {2, 3, 4, 5}\n",
    "    uni = A | B\n",
    "    return uni"
   ]
  },
  {
   "cell_type": "markdown",
   "metadata": {
    "deletable": false,
    "editable": false,
    "nbgrader": {
     "cell_type": "markdown",
     "checksum": "240db28956e0bd4542110e186aabe180",
     "grade": false,
     "grade_id": "cell-901fcede6611476f",
     "locked": true,
     "schema_version": 3,
     "solution": false,
     "task": false
    }
   },
   "source": [
    "## Testing Cells\n",
    "\n",
    "Run the below cells to check your answers. Make sure you run your solution cells first before running the cells below, otherwise you will get a `NameError` when checking your answers."
   ]
  },
  {
   "cell_type": "code",
   "execution_count": 2,
   "metadata": {
    "deletable": false,
    "editable": false,
    "nbgrader": {
     "cell_type": "code",
     "checksum": "e6169d66f376a7d098f70be64c8258f8",
     "grade": true,
     "grade_id": "cell-cddcdf1ee0f8427d",
     "locked": true,
     "points": 1,
     "schema_version": 3,
     "solution": false,
     "task": false
    }
   },
   "outputs": [
    {
     "name": "stdout",
     "output_type": "stream",
     "text": [
      "Exercise 1 looks correct!\n"
     ]
    }
   ],
   "source": [
    "# Ex 1\n",
    "assert type(create_dictionary()) == type({\"key\":\"value\"}), \"Ex. 1 - Your output is not a dictionary! Check case 0.3 if you need to review the syntax to create a dictionary in Python.\"\n",
    "assert ['Android', 'Fire OS', 'Linux', 'MS-DOS', 'Windows', 'macOS'] == sorted(list(create_dictionary())), \"Ex. 1 - Are you sure your dictionary has all the correct keys? Review the last part of case 0.3 to review how to create dictionaries in Python.\"\n",
    "assert create_dictionary()[\"Windows\"] == True, \"Ex. 1 - Check your results! Windows is not open-source!\"\n",
    "assert create_dictionary()[\"macOS\"] == True, \"Ex. 1 - Check your results! macOS is not open-source!\"\n",
    "assert create_dictionary()[\"Fire OS\"] == True, \"Ex. 1 - Check your results! Fire OS is not open-source!\"\n",
    "assert create_dictionary()[\"MS-DOS\"] == True, \"Ex. 1 - Check your results! MS-DOS is not open-source!\"\n",
    "assert create_dictionary()[\"Android\"] == False, \"Ex. 1 - Check your results! Android is open-source!\"\n",
    "assert create_dictionary()[\"Linux\"] == False, \"Ex. 1 - Check your results! Linux is open-source!\"\n",
    "print(\"Exercise 1 looks correct!\")"
   ]
  },
  {
   "cell_type": "code",
   "execution_count": 32,
   "metadata": {
    "deletable": false,
    "editable": false,
    "nbgrader": {
     "cell_type": "code",
     "checksum": "0260afd50e9ea022d1869781c415bd23",
     "grade": true,
     "grade_id": "cell-6dd78b37092571c6",
     "locked": true,
     "points": 1,
     "schema_version": 3,
     "solution": false,
     "task": false
    }
   },
   "outputs": [
    {
     "name": "stdout",
     "output_type": "stream",
     "text": [
      "Exercise 2 looks correct!\n"
     ]
    }
   ],
   "source": [
    "# Ex 2\n",
    "assert type(remove_dups_and_sort()) == type([1,2,3]), \"Ex. 2 - Are you sure your output is of type 'list'? You can check with type(). Remember that to convert a set into a list, you can use this code: list(my_set)\"\n",
    "assert not len(remove_dups_and_sort()) > 8, \"Ex. 2 - Are you sure you removed the duplicates from your list? See the cheat sheet in case 0.3 to learn how to easily remove them!\"\n",
    "assert not len(remove_dups_and_sort()) < 8, \"Ex. 2 - It appears you removed too many elements from your list. See the cheat sheet in case 0.3 to learn how to easily remove duplicates!\"\n",
    "assert remove_dups_and_sort() == ['Ana', 'And', 'Bob', 'Cannot', 'Defeat', \"Eddy's\", 'Fantastic', 'Turn of phrase'], \"Ex. 2 - Your list isn't sorted or has duplicates! See the cheat sheet in case 0.3 to learn how to easily remove duplicates!\"\n",
    "print(\"Exercise 2 looks correct!\")"
   ]
  },
  {
   "cell_type": "code",
   "execution_count": 36,
   "metadata": {
    "deletable": false,
    "editable": false,
    "nbgrader": {
     "cell_type": "code",
     "checksum": "38ca0fcf378734f608f179aa36b5056d",
     "grade": true,
     "grade_id": "cell-f7b4f6072e6f9ae6",
     "locked": true,
     "points": 1,
     "schema_version": 3,
     "solution": false,
     "task": false
    }
   },
   "outputs": [
    {
     "name": "stdout",
     "output_type": "stream",
     "text": [
      "Exercise 3 looks correct!\n"
     ]
    }
   ],
   "source": [
    "# Ex 3\n",
    "assert type(intersection_two_sets()) == type(set()), \"Ex. 3 - Your result is not a set! You can check with type().\"\n",
    "assert len(list(intersection_two_sets())) == 2, \"Ex. 3 - Are you sure that your intersection contains the right elements? Remember that the set intersection operator is `&` (see the cheat sheet in case 0.3 for more information).\"\n",
    "assert sum(list(intersection_two_sets())) == 5, \"Ex. 3 - Are you sure that your intersection contains the right elements? Remember that the set intersection operator is `&` (see the cheat sheet in case 0.3 for more information).\"\n",
    "print(\"Exercise 3 looks correct!\")"
   ]
  },
  {
   "cell_type": "code",
   "execution_count": 40,
   "metadata": {
    "deletable": false,
    "editable": false,
    "nbgrader": {
     "cell_type": "code",
     "checksum": "482b54e6f75b0a7c4d9a0411ccbf965c",
     "grade": true,
     "grade_id": "cell-b05bf733afe757c6",
     "locked": true,
     "points": 1,
     "schema_version": 3,
     "solution": false,
     "task": false
    }
   },
   "outputs": [
    {
     "name": "stdout",
     "output_type": "stream",
     "text": [
      "Exercise 4 looks correct!\n"
     ]
    }
   ],
   "source": [
    "# Ex 4\n",
    "assert type(union_two_sets()) == type(set()), \"Ex. 4 - Your result is not a set. You can check with type().\"\n",
    "assert len(list(union_two_sets())) == 5, \"Ex. 4 - Are you sure that your union contains the right elements? Remember that the set union operator is `|` (see the cheat sheet in case 0.3 for more information).\"\n",
    "assert sum(list(union_two_sets())) == 15, \"Ex. 4 - Are you sure that your intersection contains the right elements? Remember that the set union operator is `|` (see the cheat sheet in case 0.3 for more information).\"\n",
    "print(\"Exercise 4 looks correct!\")"
   ]
  }
 ],
 "metadata": {
  "kernelspec": {
   "display_name": "Python 3",
   "language": "python",
   "name": "python3"
  },
  "language_info": {
   "codemirror_mode": {
    "name": "ipython",
    "version": 3
   },
   "file_extension": ".py",
   "mimetype": "text/x-python",
   "name": "python",
   "nbconvert_exporter": "python",
   "pygments_lexer": "ipython3",
   "version": "3.6.7"
  }
 },
 "nbformat": 4,
 "nbformat_minor": 2
}
