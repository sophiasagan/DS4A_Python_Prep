{
 "cells": [
  {
   "cell_type": "markdown",
   "metadata": {
    "deletable": false,
    "editable": false,
    "nbgrader": {
     "cell_type": "markdown",
     "checksum": "b106b390bf501f1583e468dd18d055ba",
     "grade": false,
     "grade_id": "cell-b087c6569e4b11b7",
     "locked": true,
     "schema_version": 3,
     "solution": false,
     "task": false
    }
   },
   "source": [
    "# Review module"
   ]
  },
  {
   "cell_type": "markdown",
   "metadata": {
    "deletable": false,
    "editable": false,
    "nbgrader": {
     "cell_type": "markdown",
     "checksum": "4625a9e6c08c6c13805839140f11af29",
     "grade": false,
     "grade_id": "cell-5c56fd7d669debaf",
     "locked": true,
     "schema_version": 3,
     "solution": false,
     "task": false
    }
   },
   "source": [
    "**Instructions**\n",
    "\n",
    "In order to complete this review module, we recommend you follow these instructions:\n",
    "\n",
    "1. Complete the functions provided to you in this notebook, but do **not** change the name of the function or the name(s) of the argument(s). If you do that, the autograder will fail and you will not receive any points.\n",
    "2. Run all the function-definition cells before you run the testing cells. The functions must exist before they are graded!\n",
    "3. Read the function docstrings carefully. They contain additional information about how the code should look (a [docstring](https://www.datacamp.com/community/tutorials/docstrings-python) is the stuff that comes between the triple quotes).\n",
    "4. Some functions may require several outputs (the docstrings tell you which ones). Make sure they are returned in the right order.\n",
    "\n",
    "**How do functions work?**\n",
    "\n",
    "You probably haven't seen Python functions before, but don't worry, we will be covering them in a future case. For now, the main things you need to know are:\n",
    "\n",
    "1. Write your code as you would usually do, only this time write it inside the function just below the `### Your code here` comment.\n",
    "1. Functions usually start with the `def` keyword and end with `return some_variable` . Don't modify any of these. If you just write your code as we explained above, you'll be good.\n",
    "1. The code you write should be indented.\n",
    "1. The docstring lets you know the name of the variable you will have to return. The `return` statement gives you this information as well. So if, for instance, the function says `return fancy_dict` you must make sure that the variable that you define as your result is also called `fancy_dict`."
   ]
  },
  {
   "cell_type": "markdown",
   "metadata": {
    "deletable": false,
    "editable": false,
    "nbgrader": {
     "cell_type": "markdown",
     "checksum": "5462d89cabde66d648c16c02dc30dcb1",
     "grade": false,
     "grade_id": "cell-b61a2ef683902693",
     "locked": true,
     "schema_version": 3,
     "solution": false,
     "task": false
    },
    "tags": [
     "3_min"
    ]
   },
   "source": [
    "## Exercise 1\n",
    "\n",
    "Below is a description of a fictional bureaucratic process. Make it a block of conditional statements.\n",
    "\n",
    "> To qualify for benefits, you have to at least 18 years old and be either a citizen or a permanent resident. People who earn more than 50,000 dollars a year are not eligible.\n",
    "\n",
    "Don't forget that your result variable should be named `eligible`.\n",
    "\n",
    "**Hints:**\n",
    "\n",
    "1. If you find it hard to follow the conditionals, you can always draw a decision tree!\n",
    "2. To check if at least one of two conditions is true, you can use boolean logic."
   ]
  },
  {
   "cell_type": "code",
   "execution_count": 11,
   "metadata": {
    "deletable": false,
    "nbgrader": {
     "cell_type": "code",
     "checksum": "afab062aadc08a383d98bd418e93a825",
     "grade": false,
     "grade_id": "cell-ffff28d23d4fd7bb",
     "locked": false,
     "schema_version": 3,
     "solution": true,
     "task": false
    }
   },
   "outputs": [],
   "source": [
    "def benefit_screening(applicant):\n",
    "    \"\"\"\n",
    "    Determine if an applicant is eligible for a government benefit.\n",
    "    \n",
    "    Arguments:\n",
    "    `applicant`: A Python list with all the relevant information.\n",
    "    \n",
    "    Output:\n",
    "    `eligible`: A Python boolean.\n",
    "    \n",
    "    Example:\n",
    "    Given the argument [22, False, True, 45000],\n",
    "    the output variable `eligible` would have a value of `True`\n",
    "    \n",
    "    \"\"\"\n",
    "    \n",
    "    age = applicant[0]\n",
    "    citizen = applicant[1]\n",
    "    resident = applicant[2]\n",
    "    income = applicant[3]\n",
    "       \n",
    "    \n",
    "    # YOUR CODE HERE\n",
    "    if applicant[0] >= 18 and applicant[3] < 50000 and (applicant[1] == True or applicant[2] == True):\n",
    "        eligible = True\n",
    "    else:\n",
    "        eligible = False\n",
    "    return eligible"
   ]
  },
  {
   "cell_type": "markdown",
   "metadata": {
    "deletable": false,
    "editable": false,
    "nbgrader": {
     "cell_type": "markdown",
     "checksum": "cdf9755414e21878a5f1e710fc96da45",
     "grade": false,
     "grade_id": "cell-3d7b3938c856101c",
     "locked": true,
     "schema_version": 3,
     "solution": false,
     "task": false
    }
   },
   "source": [
    "To test your function, you can run this code (you may modify the values in the list at will):"
   ]
  },
  {
   "cell_type": "code",
   "execution_count": 12,
   "metadata": {},
   "outputs": [
    {
     "data": {
      "text/plain": [
       "False"
      ]
     },
     "execution_count": 12,
     "metadata": {},
     "output_type": "execute_result"
    }
   ],
   "source": [
    "applicant_no_1 = [17,False,True,5000] # Age, Citizen, Resident, Income\n",
    "benefit_screening(applicant_no_1)"
   ]
  },
  {
   "cell_type": "markdown",
   "metadata": {
    "deletable": false,
    "editable": false,
    "nbgrader": {
     "cell_type": "markdown",
     "checksum": "f5c777bd3a2a270f166e980e25e93608",
     "grade": false,
     "grade_id": "cell-c3410ae9f622ef82",
     "locked": true,
     "schema_version": 3,
     "solution": false,
     "task": false
    },
    "tags": [
     "7_min"
    ]
   },
   "source": [
    "## Exercise 2\n",
    "\n",
    "Complete the function below. Write the conditionals so that if the input `number` is even, the output variable `is_even` will be set to `True`. If the input is not even, `is_even` will be set to `False`.\n",
    "\n",
    "**Hints:**\n",
    "\n",
    "1. A number is even if when you divide it by 2, the remainder is equal to 0.\n",
    "2. To find the remainder of a division in Python, you use the [**modulo** operator](https://www.freecodecamp.org/news/the-python-modulo-operator-what-does-the-symbol-mean-in-python-solved/). Like this: `a % b`."
   ]
  },
  {
   "cell_type": "code",
   "execution_count": 5,
   "metadata": {
    "deletable": false,
    "nbgrader": {
     "cell_type": "code",
     "checksum": "785fbd6bb14bfef944d8fa5280682aca",
     "grade": false,
     "grade_id": "cell-17df40f0291a6753",
     "locked": false,
     "schema_version": 3,
     "solution": true,
     "task": false
    }
   },
   "outputs": [],
   "source": [
    "def is_this_number_even(number):\n",
    "    \"\"\"\n",
    "    Determine if `number` is even.\n",
    "    \n",
    "    Arguments:\n",
    "    `number`: An integer.\n",
    "    \n",
    "    Outputs:\n",
    "    `is_even`: A Python boolean.\n",
    "    \n",
    "    Example:\n",
    "    Given the input 3, the output should be `False`\n",
    "    \"\"\"\n",
    "    \n",
    "    # YOUR CODE HERE\n",
    "    if number % 2 == 0:\n",
    "        is_even = True\n",
    "    else:\n",
    "        is_even = False\n",
    "    \n",
    "    return is_even"
   ]
  },
  {
   "cell_type": "markdown",
   "metadata": {
    "deletable": false,
    "editable": false,
    "nbgrader": {
     "cell_type": "markdown",
     "checksum": "0766abddce2ef8a62c3dbfc97f879098",
     "grade": false,
     "grade_id": "cell-14d20387d9f0aa35",
     "locked": true,
     "schema_version": 3,
     "solution": false,
     "task": false
    },
    "tags": [
     "5_min"
    ]
   },
   "source": [
    "## Exercise 3\n",
    "\n",
    "Rewrite this conditional block using `elif` statements:\n",
    "\n",
    "~~~python\n",
    "if my_dict[\"color\"] == \"brown\":\n",
    "    out = \"Chocolate\"\n",
    "else:\n",
    "    if my_dict[\"color\"] == \"red\":\n",
    "        out = \"Strawberries\"\n",
    "    else:\n",
    "        if my_dict[\"color\"] == \"green\":\n",
    "            out = \"Avocado\"\n",
    "        else:\n",
    "            out = \"Unknown food\"        \n",
    "~~~"
   ]
  },
  {
   "cell_type": "code",
   "execution_count": 14,
   "metadata": {
    "deletable": false,
    "nbgrader": {
     "cell_type": "code",
     "checksum": "fb307d25b3ae37175520399164aa50e3",
     "grade": false,
     "grade_id": "cell-fba7cf3b3a00d32d",
     "locked": false,
     "schema_version": 3,
     "solution": true,
     "task": false
    }
   },
   "outputs": [],
   "source": [
    "def rewrite_conditional(my_dict):\n",
    "    \"\"\"\n",
    "    Rewrite a conditional block.\n",
    "    \n",
    "    Arguments:\n",
    "    `my_dict`: A Python dictionary.\n",
    "    \n",
    "    Outputs:\n",
    "    `out` = A Python string.\n",
    "    \n",
    "    Example:\n",
    "    Given the input {\"color\":\"red\"},\n",
    "    the output should be the string \"Strawberries\"\n",
    "    \"\"\"\n",
    "    \n",
    "    # YOUR CODE HERE\n",
    "    if my_dict[\"color\"] == \"brown\":\n",
    "        out = \"Chocolate\"\n",
    "    elif my_dict[\"color\"] == \"red\":\n",
    "        out = \"Strawberries\"\n",
    "    elif my_dict[\"color\"] == \"green\":\n",
    "        out = \"Avocado\"\n",
    "    else:\n",
    "        out = \"Unknown food\"\n",
    "    return out"
   ]
  },
  {
   "cell_type": "markdown",
   "metadata": {
    "deletable": false,
    "editable": false,
    "nbgrader": {
     "cell_type": "markdown",
     "checksum": "e6b9e904f350220b520bce21e7eb764d",
     "grade": false,
     "grade_id": "cell-57d7f6473509654c",
     "locked": true,
     "schema_version": 3,
     "solution": false,
     "task": false
    }
   },
   "source": [
    "## Testing Cells\n",
    "\n",
    "Run the below cells to check your answers. Make sure you run your solution cells first before running the cells below, otherwise you will get a `NameError` when checking your answers."
   ]
  },
  {
   "cell_type": "code",
   "execution_count": 13,
   "metadata": {
    "deletable": false,
    "editable": false,
    "nbgrader": {
     "cell_type": "code",
     "checksum": "a4469d52f9f4a823428f105fe83c7e85",
     "grade": true,
     "grade_id": "cell-e8b54fc508af9f32",
     "locked": true,
     "points": 1,
     "schema_version": 3,
     "solution": false,
     "task": false
    }
   },
   "outputs": [
    {
     "name": "stdout",
     "output_type": "stream",
     "text": [
      "Exercise 1 looks correct!\n"
     ]
    }
   ],
   "source": [
    "# Ex 1\n",
    "applicant = [15,True,True,1]\n",
    "assert type(benefit_screening(applicant)) == type(True), \"Ex. 1 - Your output doesn't seem to be a boolean! You can check with type().\"\n",
    "assert benefit_screening(applicant) == False, \"Ex. 1 - One or more of your conditionals seem to be wrong. Perhaps your age conditional?\"\n",
    "applicant = [20,False,False,1]\n",
    "assert benefit_screening(applicant) == False, \"Ex. 1 - One or more of your conditionals seem to be wrong. Perhaps your citizen/resident conditional?\"\n",
    "applicant = [20,True,False,1]\n",
    "assert benefit_screening(applicant) == True, \"Ex. 1 - One or more of your conditionals seem to be wrong. Perhaps your citizen/resident conditional?\"\n",
    "applicant = [20,False,True,1]\n",
    "assert benefit_screening(applicant) == True, \"Ex. 1 - One or more of your conditionals seem to be wrong. Perhaps your citizen/resident conditional?\"\n",
    "applicant = [20,True,False,10000000]\n",
    "assert benefit_screening(applicant) == False, \"Ex. 1 - One or more of your conditionals seem to be wrong. Perhaps your income conditional?\"\n",
    "print(\"Exercise 1 looks correct!\")"
   ]
  },
  {
   "cell_type": "code",
   "execution_count": 7,
   "metadata": {
    "deletable": false,
    "editable": false,
    "nbgrader": {
     "cell_type": "code",
     "checksum": "8a96da2f1f63a731859476dcffa995b3",
     "grade": true,
     "grade_id": "cell-39c8af6587e9ec0a",
     "locked": true,
     "points": 1,
     "schema_version": 3,
     "solution": false,
     "task": false
    }
   },
   "outputs": [
    {
     "name": "stdout",
     "output_type": "stream",
     "text": [
      "Exercise 2 looks correct!\n"
     ]
    }
   ],
   "source": [
    "# Ex 2\n",
    "assert is_this_number_even(157) == False, \"Ex. 2 - Check your conditionals! We tested your function with 157, and it said it was even!\"\n",
    "assert is_this_number_even(5) == False, \"Ex. 2 - Check your conditionals! We tested your function with 5, and it said it was even!\"\n",
    "assert is_this_number_even(-8) == True, \"Ex. 2 - Check your conditionals! We tested your function with -8, and it said it was odd!\"\n",
    "print(\"Exercise 2 looks correct!\")"
   ]
  },
  {
   "cell_type": "code",
   "execution_count": 15,
   "metadata": {
    "deletable": false,
    "editable": false,
    "nbgrader": {
     "cell_type": "code",
     "checksum": "b3a486635a249f4c7c5a2a9fe55c2f53",
     "grade": true,
     "grade_id": "cell-78a27010bc41fdeb",
     "locked": true,
     "points": 1,
     "schema_version": 3,
     "solution": false,
     "task": false
    }
   },
   "outputs": [
    {
     "name": "stdout",
     "output_type": "stream",
     "text": [
      "Exercise 3 looks correct!\n"
     ]
    }
   ],
   "source": [
    "# Ex 3\n",
    "import inspect\n",
    "source_fun = inspect.getsource(rewrite_conditional)\n",
    "assert \"elif\" in source_fun, \"Ex. 3 - Did you use elif statements in your function?\"\n",
    "d = {\"color\":\"brown\"}\n",
    "assert rewrite_conditional(d) == \"Chocolate\", \"Ex. 3 - Check your conditionals. They aren't giving the right output for 'brown'\"\n",
    "d = {\"color\":\"red\"}\n",
    "assert rewrite_conditional(d) == \"Strawberries\", \"Ex. 3 - Check your conditionals. They aren't giving the right output for 'red'\"\n",
    "d = {\"color\":\"green\"}\n",
    "assert rewrite_conditional(d) == \"Avocado\", \"Ex. 3 - Check your conditionals. They aren't giving the right output for 'green'\"\n",
    "d = {\"color\":\"purple\"}\n",
    "assert rewrite_conditional(d) == \"Unknown food\", \"Ex. 3 - Check your conditionals. They aren't giving the right output for 'purple'\"\n",
    "print(\"Exercise 3 looks correct!\")"
   ]
  }
 ],
 "metadata": {
  "kernelspec": {
   "display_name": "Python 3",
   "language": "python",
   "name": "python3"
  },
  "language_info": {
   "codemirror_mode": {
    "name": "ipython",
    "version": 3
   },
   "file_extension": ".py",
   "mimetype": "text/x-python",
   "name": "python",
   "nbconvert_exporter": "python",
   "pygments_lexer": "ipython3",
   "version": "3.6.7"
  }
 },
 "nbformat": 4,
 "nbformat_minor": 2
}
