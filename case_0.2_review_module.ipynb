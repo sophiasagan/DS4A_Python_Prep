{
 "cells": [
  {
   "cell_type": "markdown",
   "metadata": {
    "deletable": false,
    "editable": false,
    "nbgrader": {
     "cell_type": "markdown",
     "checksum": "8fc1c9945370a7ee9b320df8cdc20253",
     "grade": false,
     "grade_id": "cell-bcc39ccd2dbfe132",
     "locked": true,
     "schema_version": 3,
     "solution": false,
     "task": false
    }
   },
   "source": [
    "# Review module\n",
    "\n",
    "Throughout this pre-foundational program, you will complete several auto-graded mini-homeworks designed to test your understanding of the previous cases. This is the second of those mini-homeworks, covering case 0.2.\n",
    "\n",
    "**Instructions**\n",
    "\n",
    "The exercises will require you to write simple snippets of code. In order to complete this part, we recommend you follow these instructions:\n",
    "\n",
    "1. Complete the functions provided to you in this notebook, but do **not** change the name of the function or the name(s) of the argument(s). If you do that, the autograder will fail and you will not receive any points.\n",
    "2. Run all the function-definition cells before you run the testing cells. The functions must exist before they are graded!\n",
    "3. Read the function docstrings carefully. They contain additional information about how the code should look (a [docstring](https://www.datacamp.com/community/tutorials/docstrings-python) is the stuff that comes between the triple quotes).\n",
    "4. Some functions may require several outputs (the docstrings tell you which ones). Make sure they are returned in the right order.\n",
    "\n",
    "**How do functions work?**\n",
    "\n",
    "You already saw some Python functions in the previous review module. Here's a reminder of some things you need to keep in mind:\n",
    "\n",
    "1. Write your code as you would usually do, only this time write it inside the function just below the `### Your code here` comment.\n",
    "2. Functions usually start with the `def` keyword and end with `return some_variable` . Don't modify any of these. If you just write your code as we explained above, you'll be good.\n",
    "3. The code you write should be indented.\n",
    "4. The docstring lets you know the name of the variable you will have to return. The `return` statement gives you this information as well. So if, for instance, the function says `return fancy_dict` you must make sure that the variable that you define as your result is also called `fancy_dict`.\n",
    "\n",
    "Here are a couple of already-solved example questions:"
   ]
  },
  {
   "cell_type": "markdown",
   "metadata": {
    "deletable": false,
    "editable": false,
    "nbgrader": {
     "cell_type": "markdown",
     "checksum": "d64eab9b540f9e785558c1056f803cda",
     "grade": false,
     "grade_id": "cell-ca9118682ef4b41d",
     "locked": true,
     "schema_version": 3,
     "solution": false,
     "task": false
    }
   },
   "source": [
    "### Example 1\n",
    "\n",
    "Write code that takes a numerical value, multiplies it by itself, and then returns the result."
   ]
  },
  {
   "cell_type": "code",
   "execution_count": 1,
   "metadata": {
    "deletable": false,
    "editable": false,
    "nbgrader": {
     "cell_type": "code",
     "checksum": "c238964438660e68ef405336817ab709",
     "grade": false,
     "grade_id": "cell-f3ca26fde02c0ad5",
     "locked": true,
     "schema_version": 3,
     "solution": false,
     "task": false
    }
   },
   "outputs": [],
   "source": [
    "def example_1(input_integer):\n",
    "    \"\"\"\n",
    "    This is a docstring. Docstrings are written in plain English\n",
    "    (they are not code), and are meant to help you remember\n",
    "    what your function does. In this case, this function\n",
    "    assigns `input_integer` to a variable, multiplies it by 2,\n",
    "    and then returns the result. It takes an integer as input.\n",
    "    \n",
    "    Note: Hereinafter, we will be using the symbol ` to enclose words\n",
    "    that are variable names, like we just did with `input_integer`\n",
    "    \"\"\"\n",
    "    result = input_integer * input_integer\n",
    "    return result"
   ]
  },
  {
   "cell_type": "markdown",
   "metadata": {
    "deletable": false,
    "editable": false,
    "nbgrader": {
     "cell_type": "markdown",
     "checksum": "72c6756ee0a8784b81bf12d26d3f52dd",
     "grade": false,
     "grade_id": "cell-486ecc6a9690fe63",
     "locked": true,
     "schema_version": 3,
     "solution": false,
     "task": false
    }
   },
   "source": [
    "You can check that your function works by calling it like this:"
   ]
  },
  {
   "cell_type": "code",
   "execution_count": 2,
   "metadata": {
    "deletable": false,
    "editable": false,
    "nbgrader": {
     "cell_type": "code",
     "checksum": "d0abe050b5459f2ee6b7637e8910e656",
     "grade": false,
     "grade_id": "cell-ce0ac0796faf81ec",
     "locked": true,
     "schema_version": 3,
     "solution": false,
     "task": false
    }
   },
   "outputs": [
    {
     "data": {
      "text/plain": [
       "16"
      ]
     },
     "execution_count": 2,
     "metadata": {},
     "output_type": "execute_result"
    }
   ],
   "source": [
    "example_1(4)"
   ]
  },
  {
   "cell_type": "markdown",
   "metadata": {
    "deletable": false,
    "editable": false,
    "nbgrader": {
     "cell_type": "markdown",
     "checksum": "ad067bbea83550b756b5fa38de5c97aa",
     "grade": false,
     "grade_id": "cell-c115c6f41789d515",
     "locked": true,
     "schema_version": 3,
     "solution": false,
     "task": false
    }
   },
   "source": [
    "### Example 2\n",
    "\n",
    "Write code that takes any integer value, adds it to its own value divided by 10, and returns the result."
   ]
  },
  {
   "cell_type": "code",
   "execution_count": 3,
   "metadata": {
    "deletable": false,
    "editable": false,
    "nbgrader": {
     "cell_type": "code",
     "checksum": "d6458ee31e6557237affbdc4f1ebf0d7",
     "grade": false,
     "grade_id": "cell-42e5c52ee61ab873",
     "locked": true,
     "schema_version": 3,
     "solution": false,
     "task": false
    }
   },
   "outputs": [],
   "source": [
    "def example_2(input_number):\n",
    "    \"\"\"\n",
    "    Take an integer, add it to its own value divided by 10,\n",
    "    and return the result.\n",
    "    \n",
    "    Arguments: (Arguments are the inputs you pass to your function)\n",
    "    `input_number`: An integer\n",
    "    \"\"\"\n",
    "    result = input_number + (input_number/10)\n",
    "    return result"
   ]
  },
  {
   "cell_type": "markdown",
   "metadata": {
    "deletable": false,
    "editable": false,
    "nbgrader": {
     "cell_type": "markdown",
     "checksum": "a092eb75b8fce36ec1e5eb63714b29cf",
     "grade": false,
     "grade_id": "cell-5e27520e693549f6",
     "locked": true,
     "schema_version": 3,
     "solution": false,
     "task": false
    }
   },
   "source": [
    "And checking:"
   ]
  },
  {
   "cell_type": "code",
   "execution_count": 4,
   "metadata": {
    "deletable": false,
    "editable": false,
    "nbgrader": {
     "cell_type": "code",
     "checksum": "490b2aa0edee3db64ad668cdb5468b43",
     "grade": false,
     "grade_id": "cell-47d74e48784f6004",
     "locked": true,
     "schema_version": 3,
     "solution": false,
     "task": false
    }
   },
   "outputs": [
    {
     "data": {
      "text/plain": [
       "110.0"
      ]
     },
     "execution_count": 4,
     "metadata": {},
     "output_type": "execute_result"
    }
   ],
   "source": [
    "example_2(100)"
   ]
  },
  {
   "cell_type": "markdown",
   "metadata": {
    "deletable": false,
    "editable": false,
    "nbgrader": {
     "cell_type": "markdown",
     "checksum": "33141117a23a198fb20fef495e19b365",
     "grade": false,
     "grade_id": "cell-e309975d867b36ff",
     "locked": true,
     "schema_version": 3,
     "solution": false,
     "task": false
    }
   },
   "source": [
    "Alright? Here come the coding questions!"
   ]
  },
  {
   "cell_type": "markdown",
   "metadata": {
    "deletable": false,
    "editable": false,
    "nbgrader": {
     "cell_type": "markdown",
     "checksum": "4c4038c399859ad6ba5fa4d60f890eca",
     "grade": false,
     "grade_id": "cell-cd23e7adeb16c4ee",
     "locked": true,
     "schema_version": 3,
     "solution": false,
     "task": false
    }
   },
   "source": [
    "### Exercise 1\n",
    "\n",
    "Write code that finds the product of 4 numbers and returns it."
   ]
  },
  {
   "cell_type": "code",
   "execution_count": 5,
   "metadata": {
    "deletable": false,
    "nbgrader": {
     "cell_type": "code",
     "checksum": "ec05cd03c34fde20b361f12fe38564d6",
     "grade": false,
     "grade_id": "cell-6da7fa29a659afd3",
     "locked": false,
     "schema_version": 3,
     "solution": true,
     "task": false
    }
   },
   "outputs": [],
   "source": [
    "def multiply_these_numbers(a,b,c,d):\n",
    "    \"\"\"Multiplies `a`, `b`, `c`, and `d`\n",
    "    and returns the product as the `result` variable\n",
    "    \"\"\"\n",
    "    # YOUR CODE HERE\n",
    "    result = a*b*c*d\n",
    "    return result"
   ]
  },
  {
   "cell_type": "markdown",
   "metadata": {
    "deletable": false,
    "editable": false,
    "nbgrader": {
     "cell_type": "markdown",
     "checksum": "2f01aa0fb0955490fdc11d821189bc57",
     "grade": false,
     "grade_id": "cell-d21a20a5e79b5266",
     "locked": true,
     "schema_version": 3,
     "solution": false,
     "task": false
    }
   },
   "source": [
    "### Exercise 2\n",
    "\n",
    "Write code that adds (concatenates) 3 different strings together and returns the result."
   ]
  },
  {
   "cell_type": "code",
   "execution_count": 11,
   "metadata": {
    "deletable": false,
    "nbgrader": {
     "cell_type": "code",
     "checksum": "6c8dc413c93280c58d18e9c89d1d3b01",
     "grade": false,
     "grade_id": "cell-b74d0ff90247b40b",
     "locked": false,
     "schema_version": 3,
     "solution": true,
     "task": false
    }
   },
   "outputs": [],
   "source": [
    "def add_these_strings(string1, string2, string3):\n",
    "    \"\"\"\n",
    "    Concatenates `string1`, `string2`, and `string3`.\n",
    "    \n",
    "    Since the arguments are strings, they must be surrounded\n",
    "    by quotation marks when you pass them as inputs. So, for\n",
    "    instance, you would call (execute) this function like this:\n",
    "    \n",
    "    add_these_strings(\"text one\", \"text two\", \"text three\")\n",
    "    \n",
    "    Your function shouldn't add unnecessary spaces. The output of the\n",
    "    previous call should then be\n",
    "    \n",
    "    \"text onetext twotext three\"\n",
    "    \n",
    "    and NOT\n",
    "    \n",
    "    \"text one text two text three\"\n",
    "    \"\"\"\n",
    "    # YOUR CODE HERE\n",
    "    result = string1+string2+string3\n",
    "    return result"
   ]
  },
  {
   "cell_type": "markdown",
   "metadata": {
    "deletable": false,
    "editable": false,
    "nbgrader": {
     "cell_type": "markdown",
     "checksum": "041bb2ffe5f54db0972fdbc41079396d",
     "grade": false,
     "grade_id": "cell-e4342c8bdb5ec2df",
     "locked": true,
     "schema_version": 3,
     "solution": false,
     "task": false
    }
   },
   "source": [
    "### Exercise 3\n",
    "\n",
    "Write code that takes a number originally formatted as a string, divides it by the length of the original string, and returns the result."
   ]
  },
  {
   "cell_type": "code",
   "execution_count": 36,
   "metadata": {
    "deletable": false,
    "nbgrader": {
     "cell_type": "code",
     "checksum": "370bd1c2e71a9355948a4d2d7c63fb75",
     "grade": false,
     "grade_id": "cell-466de4b7eb3a9f70",
     "locked": false,
     "schema_version": 3,
     "solution": true,
     "task": false
    }
   },
   "outputs": [],
   "source": [
    "def number_gymnastics(number_as_string):\n",
    "    \"\"\"\n",
    "    Take a number originally formatted as a string,\n",
    "    then divide it by the length of the original string.\n",
    "    \n",
    "    Arguments:\n",
    "    `number_as_string`: A number, only that it is formatted as a string.\n",
    "    For instance: Instead of passing 15, you pass \"15\"\n",
    "    (surrounded by quotation marks)\n",
    "    \n",
    "    Output:\n",
    "    `result`: A number.\n",
    "    \n",
    "    Example:\n",
    "    If you call number_gymnastics(\"14\"),\n",
    "    the output should be the number 7.0, because\n",
    "    14 divided by 2 (the lenght of the \"14\" string) is equal\n",
    "    to the number 7.0\n",
    "    \"\"\"\n",
    "    # YOUR CODE HERE\n",
    "    \n",
    "    result = (int(number_as_string))/len(number_as_string)\n",
    "    return result"
   ]
  },
  {
   "cell_type": "markdown",
   "metadata": {
    "deletable": false,
    "editable": false,
    "nbgrader": {
     "cell_type": "markdown",
     "checksum": "240db28956e0bd4542110e186aabe180",
     "grade": false,
     "grade_id": "cell-901fcede6611476f",
     "locked": true,
     "schema_version": 3,
     "solution": false,
     "task": false
    }
   },
   "source": [
    "## Testing Cells\n",
    "\n",
    "Run the below cells to check your answers. Make sure you run your solution cells first before running the cells below, otherwise you will get a `NameError` when checking your answers."
   ]
  },
  {
   "cell_type": "code",
   "execution_count": 8,
   "metadata": {
    "deletable": false,
    "editable": false,
    "nbgrader": {
     "cell_type": "code",
     "checksum": "9e136e9938f478b0c260781e9922637a",
     "grade": true,
     "grade_id": "cell-e3ff00e471bec774",
     "locked": true,
     "points": 1,
     "schema_version": 3,
     "solution": false,
     "task": false
    }
   },
   "outputs": [
    {
     "name": "stdout",
     "output_type": "stream",
     "text": [
      "Exercise 1 looks correct!\n"
     ]
    }
   ],
   "source": [
    "# Ex. 1\n",
    "assert multiply_these_numbers(1,2,3,4) == 24, \"Ex. 1 - Please check your arithmetic! Remember that to multiply numbers in Python, you use the symbol *\"\n",
    "assert multiply_these_numbers(2,3,4,5) == 120, \"Ex. 1 - Please check your arithmetic! Remember that to multiply numbers in Python, you use the symbol *\"\n",
    "print(\"Exercise 1 looks correct!\")"
   ]
  },
  {
   "cell_type": "code",
   "execution_count": 13,
   "metadata": {
    "deletable": false,
    "editable": false,
    "nbgrader": {
     "cell_type": "code",
     "checksum": "c5e9f1529ff647a33ee72695202ebc7a",
     "grade": true,
     "grade_id": "cell-c0480287df6d8dd5",
     "locked": true,
     "points": 1,
     "schema_version": 3,
     "solution": false,
     "task": false
    }
   },
   "outputs": [
    {
     "name": "stdout",
     "output_type": "stream",
     "text": [
      "Exercise 2 looks correct!\n"
     ]
    }
   ],
   "source": [
    "# Ex. 2\n",
    "assert add_these_strings(\"data\", \"is\", \"cool\") == \"dataiscool\", \"Ex. 2 - We tested your function, and the output isn't quite right yet. Remember that to concatenate two strings together, you can use the + symbol.\"\n",
    "assert add_these_strings(\"I \", \"need \", \"space\") == \"I need space\", \"Ex. 2 - We tested your function, and the output isn't quite right yet. Remember that to concatenate two strings together, you can use the + symbol.\"\n",
    "print(\"Exercise 2 looks correct!\")"
   ]
  },
  {
   "cell_type": "code",
   "execution_count": 38,
   "metadata": {
    "deletable": false,
    "editable": false,
    "nbgrader": {
     "cell_type": "code",
     "checksum": "2fa835deaba641ac3e0c0e0fcc6bf279",
     "grade": true,
     "grade_id": "cell-bbb0af688a1c570a",
     "locked": true,
     "points": 1,
     "schema_version": 3,
     "solution": false,
     "task": false
    }
   },
   "outputs": [
    {
     "name": "stdout",
     "output_type": "stream",
     "text": [
      "Exercise 3 looks correct!\n"
     ]
    }
   ],
   "source": [
    "# Ex. 3\n",
    "assert number_gymnastics(\"270\") == 90, \"Ex. 3 - Not quite there yet! Remember, first transform the string input into a number (review case 0.2 if you need a refresher on how to do this), and then divide it by the length of the string input (again, check 0.2 to see how to find the lenght)\"\n",
    "assert number_gymnastics(\"5\") == 5, \"Ex. 3 - Not quite there yet! Remember, first transform the string input into a number (review case 0.2 if you need a refresher on how to do this), and then divide it by the length of the string input (again, check 0.2 to see how to find the lenght)\"\n",
    "print(\"Exercise 3 looks correct!\")"
   ]
  }
 ],
 "metadata": {
  "kernelspec": {
   "display_name": "Python 3",
   "language": "python",
   "name": "python3"
  },
  "language_info": {
   "codemirror_mode": {
    "name": "ipython",
    "version": 3
   },
   "file_extension": ".py",
   "mimetype": "text/x-python",
   "name": "python",
   "nbconvert_exporter": "python",
   "pygments_lexer": "ipython3",
   "version": "3.6.7"
  }
 },
 "nbformat": 4,
 "nbformat_minor": 4
}
