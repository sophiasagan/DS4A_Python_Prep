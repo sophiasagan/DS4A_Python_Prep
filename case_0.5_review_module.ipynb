{
 "cells": [
  {
   "cell_type": "markdown",
   "metadata": {
    "deletable": false,
    "editable": false,
    "nbgrader": {
     "cell_type": "markdown",
     "checksum": "0b789666a5fcd3cc21e4f2383f48c527",
     "grade": false,
     "grade_id": "cell-47ed3376b1b373de",
     "locked": true,
     "schema_version": 3,
     "solution": false,
     "task": false
    }
   },
   "source": [
    "# Review module"
   ]
  },
  {
   "cell_type": "markdown",
   "metadata": {
    "deletable": false,
    "editable": false,
    "nbgrader": {
     "cell_type": "markdown",
     "checksum": "d6f0761cdf1a7a488bc6635d37364a14",
     "grade": false,
     "grade_id": "cell-e8fe3302c02eaf4a",
     "locked": true,
     "schema_version": 3,
     "solution": false,
     "task": false
    }
   },
   "source": [
    "**Instructions**\n",
    "\n",
    "In order to complete this review module, we recommend you follow these instructions:\n",
    "\n",
    "1. When writing your code, do **not** use function names different to those provided to you in the prompts. If you do that, the autograder will fail and you will not receive any points.\n",
    "2. Run all the function-definition cells before you run the testing cells. The functions must exist before they are graded!"
   ]
  },
  {
   "cell_type": "markdown",
   "metadata": {
    "deletable": false,
    "editable": false,
    "nbgrader": {
     "cell_type": "markdown",
     "checksum": "ad3daa6f2f1df5714663a2c22a363359",
     "grade": false,
     "grade_id": "cell-f64ad69b5e913fe9",
     "locked": true,
     "schema_version": 3,
     "solution": false,
     "task": false
    },
    "tags": [
     "3_min"
    ]
   },
   "source": [
    "## Exercise 1\n",
    "\n",
    "Write a function called `cube_root` that takes a nonnegative number as its only argument. This function must find the cube root of the number and return it with a `return` statement.\n",
    "\n",
    "**Note:** For this exercise, just assume the user will always input a nonnegative number - no need to include input validity checks.\n",
    "\n",
    "**Hint:** Remember that for $X \\geq 0$,\n",
    "\n",
    "$$\n",
    "\\sqrt[3]X = X^{1/3}\n",
    "$$"
   ]
  },
  {
   "cell_type": "code",
   "execution_count": 22,
   "metadata": {
    "deletable": false,
    "nbgrader": {
     "cell_type": "code",
     "checksum": "6d0d7f3918ad9db1b10228d7ad006212",
     "grade": false,
     "grade_id": "cell-27de682534bc2137",
     "locked": false,
     "schema_version": 3,
     "solution": true,
     "task": false
    }
   },
   "outputs": [],
   "source": [
    "# Please name your function cube_root - If you use another name, the test will fail!\n",
    "# Write your function below (check case 0.5 to see how to define a function in Python)\n",
    "# YOUR CODE HERE\n",
    "def cube_root(num):\n",
    "    num = num**(1/3)\n",
    "    return num\n"
   ]
  },
  {
   "cell_type": "markdown",
   "metadata": {
    "deletable": false,
    "editable": false,
    "nbgrader": {
     "cell_type": "markdown",
     "checksum": "f414c3241419c39002b714a816494ed8",
     "grade": false,
     "grade_id": "cell-799edd62e644935e",
     "locked": true,
     "schema_version": 3,
     "solution": false,
     "task": false
    },
    "tags": [
     "7_min"
    ]
   },
   "source": [
    "## Exercise 2\n",
    "\n",
    "Write an appropriate docstring for this function:"
   ]
  },
  {
   "cell_type": "code",
   "execution_count": 24,
   "metadata": {
    "deletable": false,
    "nbgrader": {
     "cell_type": "code",
     "checksum": "49abf206084320170ac38f675402b7ec",
     "grade": false,
     "grade_id": "cell-b75f1fddc7d0f9b1",
     "locked": false,
     "schema_version": 3,
     "solution": true,
     "task": false
    }
   },
   "outputs": [],
   "source": [
    "def my_function(my_string, reps): # Don't change this line!\n",
    "    \n",
    "    # YOUR CODE HERE\n",
    "    \"\"\"\n",
    "    Convert string to upper case and then repeat line as many times as assigned.\n",
    "    \n",
    "    Arguments:\n",
    "    my_string: A line of letters, numbers or words that's given.\n",
    "    reps: The amount of times the string needs to be repeated.\n",
    "    \n",
    "    Outputs:\n",
    "    Repeated string in uppercase.\n",
    "    \"\"\"\n",
    "    \n",
    "    my_string = my_string.upper()\n",
    "    repeated = my_string * reps\n",
    "        \n",
    "    return repeated"
   ]
  },
  {
   "cell_type": "markdown",
   "metadata": {
    "deletable": false,
    "editable": false,
    "nbgrader": {
     "cell_type": "markdown",
     "checksum": "ec690a1873a007fc9bd2d6f2ccaf5eed",
     "grade": false,
     "grade_id": "cell-339b10aeade0214e",
     "locked": true,
     "schema_version": 3,
     "solution": false,
     "task": false
    },
    "tags": [
     "5_min"
    ]
   },
   "source": [
    "## Exercise 3\n",
    "\n",
    "Write a function called `process_number` that takes two positive integers as arguments. This function should:\n",
    "\n",
    "1. Find the cube root of the first integer (for this, we recommend you call `cube_root` inside this function), and then\n",
    "2. take that cube root and elevate it to a power for which the exponent is the second number.\n",
    "\n",
    "For instance, if the two integers are $x=27$ and $y=4$, then the output of this function should be\n",
    "\n",
    "$$\n",
    "(\\sqrt[3]x)^y = (\\sqrt[3]27)^4 = 3^4 = 81\n",
    "$$\n",
    "\n",
    "**Note:** For this exercise, just assume the user will always input positive numbers - no need to include input validity checks."
   ]
  },
  {
   "cell_type": "code",
   "execution_count": 47,
   "metadata": {
    "deletable": false,
    "nbgrader": {
     "cell_type": "code",
     "checksum": "7385eb3ab8d99ec57485ca288410e0b3",
     "grade": false,
     "grade_id": "cell-59e7e19785f29189",
     "locked": false,
     "schema_version": 3,
     "solution": true,
     "task": false
    }
   },
   "outputs": [],
   "source": [
    "# Please name your function process_number - If you use another name, the test will fail!\n",
    "# Write your function below (check case 0.5 to see how to define a function in Python)\n",
    "# YOUR CODE HERE\n",
    "def process_number(x, y):\n",
    "    answer = (x**(1/3))**y\n",
    "    return answer\n",
    "\n"
   ]
  },
  {
   "cell_type": "markdown",
   "metadata": {
    "deletable": false,
    "editable": false,
    "nbgrader": {
     "cell_type": "markdown",
     "checksum": "a51907b4d13b1fa82d0a49603fe45e25",
     "grade": false,
     "grade_id": "cell-e5a49baab4e1452d",
     "locked": true,
     "schema_version": 3,
     "solution": false,
     "task": false
    }
   },
   "source": [
    "## Exercise 4\n",
    "\n",
    "Write a function called `split_number` that takes a float number as input and outputs two floats:\n",
    "\n",
    "1. The first float is the \"integer\" part of the number. So, if the input was $25.7$, this first float should be $25.0$.\n",
    "2. The second float is the \"decimal\" part of the number. So, if the input was $25.7$, this second float should be $7.0$ (*not* $0.7$).\n",
    "\n",
    "**Hint:** For this, we suggest that you first convert the number into a string and then use `.split(\".\")` to separate this string into its components. Don't forget to return both outputs as **floats**."
   ]
  },
  {
   "cell_type": "code",
   "execution_count": 59,
   "metadata": {
    "deletable": false,
    "nbgrader": {
     "cell_type": "code",
     "checksum": "7871dc137a198f13cd92d1151c3ae22f",
     "grade": false,
     "grade_id": "cell-e608ada7b2b43e72",
     "locked": false,
     "schema_version": 3,
     "solution": true,
     "task": false
    }
   },
   "outputs": [],
   "source": [
    "def split_number(number):\n",
    "    \"\"\"\n",
    "    Split `number` into its integer and decimal parts.\n",
    "    \n",
    "    Arguments:\n",
    "    `number`: An integer or float\n",
    "    \n",
    "    Outputs:\n",
    "    `integer_part`: A float.\n",
    "    `decimal_part`: A float.\n",
    "    \n",
    "    Example:\n",
    "    split_number(25.7) should produce 25.0 as the first output\n",
    "    and 7.0 as the second output.\n",
    "    \"\"\"\n",
    "    # YOUR CODE HERE\n",
    "    num_to_string = str(number).split(\".\")\n",
    "    integer_part = float(num_to_string[0])\n",
    "    decimal_part = float(num_to_string[1])\n",
    "    return integer_part, decimal_part"
   ]
  },
  {
   "cell_type": "markdown",
   "metadata": {
    "deletable": false,
    "editable": false,
    "nbgrader": {
     "cell_type": "markdown",
     "checksum": "d45b7979ce9bbd4f9c2d1bd856551666",
     "grade": false,
     "grade_id": "cell-0ae3bb721640326a",
     "locked": true,
     "schema_version": 3,
     "solution": false,
     "task": false
    }
   },
   "source": [
    "## Testing Cells\n",
    "\n",
    "Run the below cells to check your answers. Make sure you run your solution cells first before running the cells below, otherwise you will get a `NameError` when checking your answers."
   ]
  },
  {
   "cell_type": "code",
   "execution_count": 23,
   "metadata": {
    "deletable": false,
    "editable": false,
    "nbgrader": {
     "cell_type": "code",
     "checksum": "3bf743317ef13c85cd7531485ae81c1d",
     "grade": true,
     "grade_id": "cell-293c1c13c0baad1c",
     "locked": true,
     "points": 1,
     "schema_version": 3,
     "solution": false,
     "task": false
    }
   },
   "outputs": [
    {
     "name": "stdout",
     "output_type": "stream",
     "text": [
      "Exercise 1 looks correct!\n"
     ]
    }
   ],
   "source": [
    "# Ex 1\n",
    "try:\n",
    "    cube_root(27)\n",
    "except NameError:\n",
    "    assert 3**3 == 9, \"Ex. 1 - You haven't defined a function named cube_root! Remember to name your function cube_root and execute the corresponding cell before running this test.\"\n",
    "else:\n",
    "    assert round(cube_root(27)) == 3, \"Ex. 1 - Incorrect! Remember that to elevate a number x to the y-th power, you use x**y in Python.\"\n",
    "    assert round(cube_root(1000)) == 10, \"Ex. 1 - Incorrect! Remember that to elevate a number x to the y-th power, you use x**y in Python.\"\n",
    "    print(\"Exercise 1 looks correct!\")"
   ]
  },
  {
   "cell_type": "code",
   "execution_count": 25,
   "metadata": {
    "deletable": false,
    "editable": false,
    "nbgrader": {
     "cell_type": "code",
     "checksum": "98348713ee79dd50c63fee67372233bd",
     "grade": true,
     "grade_id": "cell-303c96e4e07385c0",
     "locked": true,
     "points": 1,
     "schema_version": 3,
     "solution": false,
     "task": false
    }
   },
   "outputs": [
    {
     "name": "stdout",
     "output_type": "stream",
     "text": [
      "Exercise 2 looks correct!\n"
     ]
    }
   ],
   "source": [
    "# Ex 2\n",
    "import inspect\n",
    "source_fun = inspect.getsource(my_function)\n",
    "assert source_fun.count('\"\"\"') == 2, \"Ex. 2 - Did you add a docstring to your function? Remember to use triple quotes both at the beginning and at the end of the docstring.\"\n",
    "assert len(source_fun.split('\"\"\"')[1]) > 15, \"Ex. 2 - Did you add a docstring to your function? Short docstrings are good, but sometimes we need more information!\"\n",
    "assert \"argument\" in source_fun.split('\"\"\"')[1].lower(), \"Ex. 2 - Did you specify the arguments of the function in your docstring?\"\n",
    "assert \"output\" in source_fun.split('\"\"\"')[1].lower(), \"Ex. 2 - Did you specify the output of the function in your docstring?\"\n",
    "print(\"Exercise 2 looks correct!\")"
   ]
  },
  {
   "cell_type": "code",
   "execution_count": 48,
   "metadata": {
    "deletable": false,
    "editable": false,
    "nbgrader": {
     "cell_type": "code",
     "checksum": "c7daac271dac05477868fd1a3becc1ac",
     "grade": true,
     "grade_id": "cell-0a378773c1097e13",
     "locked": true,
     "points": 1,
     "schema_version": 3,
     "solution": false,
     "task": false
    }
   },
   "outputs": [
    {
     "name": "stdout",
     "output_type": "stream",
     "text": [
      "Exercise 3 looks correct!\n"
     ]
    }
   ],
   "source": [
    "# Ex 3\n",
    "try:\n",
    "    process_number(27, 2)\n",
    "except NameError:\n",
    "    assert 3**3 == 9, \"Ex. 3 - You haven't defined a function named process_number! Remember to name your function process_number and execute the corresponding cell before running this test.\"\n",
    "else:\n",
    "    assert round(process_number(27, 2)) == 9, \"Ex. 3 - Your function is not producing the correct output. Please check your arithmetic!\"\n",
    "    assert round(process_number(64, 4)) == 256, \"Ex. 3 - Your function is not producing the correct output. Please check your arithmetic!\"\n",
    "    print(\"Exercise 3 looks correct!\")"
   ]
  },
  {
   "cell_type": "code",
   "execution_count": 60,
   "metadata": {
    "deletable": false,
    "editable": false,
    "nbgrader": {
     "cell_type": "code",
     "checksum": "dc4b75ec004165f73a078373124d72b8",
     "grade": true,
     "grade_id": "cell-9003ad0a93088895",
     "locked": true,
     "points": 1,
     "schema_version": 3,
     "solution": false,
     "task": false
    }
   },
   "outputs": [
    {
     "name": "stdout",
     "output_type": "stream",
     "text": [
      "Exercise 4 looks correct!\n"
     ]
    }
   ],
   "source": [
    "# Ex 4\n",
    "assert split_number(27.2)[0] == 27, \"Ex. 3 - Your function is not producing the correct output. Please check your arithmetic!\"\n",
    "assert split_number(64.4)[1] == 4, \"Ex. 3 - Your function is not producing the correct output. Please check your arithmetic!\"\n",
    "assert split_number(12.0)[1] == 0, \"Ex. 3 - Your function is not producing the correct output. Please check your arithmetic!\"\n",
    "print(\"Exercise 4 looks correct!\")"
   ]
  }
 ],
 "metadata": {
  "kernelspec": {
   "display_name": "Python 3",
   "language": "python",
   "name": "python3"
  },
  "language_info": {
   "codemirror_mode": {
    "name": "ipython",
    "version": 3
   },
   "file_extension": ".py",
   "mimetype": "text/x-python",
   "name": "python",
   "nbconvert_exporter": "python",
   "pygments_lexer": "ipython3",
   "version": "3.6.7"
  }
 },
 "nbformat": 4,
 "nbformat_minor": 2
}
