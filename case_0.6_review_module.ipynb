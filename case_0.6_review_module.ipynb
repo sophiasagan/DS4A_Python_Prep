{
 "cells": [
  {
   "cell_type": "markdown",
   "metadata": {
    "deletable": false,
    "editable": false,
    "nbgrader": {
     "cell_type": "markdown",
     "checksum": "a45cdd1a36d8cd58332f1a66ae6ad658",
     "grade": false,
     "grade_id": "cell-ea78eadd1b9140d9",
     "locked": true,
     "schema_version": 3,
     "solution": false,
     "task": false
    }
   },
   "source": [
    "# Review module"
   ]
  },
  {
   "cell_type": "markdown",
   "metadata": {
    "deletable": false,
    "editable": false,
    "nbgrader": {
     "cell_type": "markdown",
     "checksum": "ccec350cb6d7a5d5704c2abac71586c2",
     "grade": false,
     "grade_id": "cell-6588c460b2510f8f",
     "locked": true,
     "schema_version": 3,
     "solution": false,
     "task": false
    }
   },
   "source": [
    "**Instructions**\n",
    "\n",
    "In order to complete this review module, we recommend you follow these instructions:\n",
    "\n",
    "1. Complete the functions provided to you in this notebook, but do **not** change the name of the function or the name(s) of the argument(s). If you do that, the autograder will fail and you will not receive any points.\n",
    "2. Run all the function-definition cells before you run the testing cells. The functions must exist before they are graded!\n",
    "3. Read the function docstrings carefully. They contain additional information about how the code should look (a [docstring](https://www.datacamp.com/community/tutorials/docstrings-python) is the stuff that comes between the triple quotes).\n",
    "4. Some functions may require several outputs (the docstrings tell you which ones). Make sure they are returned in the right order."
   ]
  },
  {
   "cell_type": "markdown",
   "metadata": {
    "deletable": false,
    "editable": false,
    "nbgrader": {
     "cell_type": "markdown",
     "checksum": "af2157420b96d054c3bcb6f154d2c8bc",
     "grade": false,
     "grade_id": "cell-dd7f0d08e1b51c08",
     "locked": true,
     "schema_version": 3,
     "solution": false,
     "task": false
    },
    "tags": [
     "3_min"
    ]
   },
   "source": [
    "## Exercise 1\n",
    "\n",
    "Load the file that is in `data/time_series_covid19_confirmed_US.csv` and output its rows as a list."
   ]
  },
  {
   "cell_type": "code",
   "execution_count": 3,
   "metadata": {
    "deletable": false,
    "nbgrader": {
     "cell_type": "code",
     "checksum": "55786fffa1315d0c3a8472ef6e35afff",
     "grade": false,
     "grade_id": "cell-3f6271a6e39561d5",
     "locked": false,
     "schema_version": 3,
     "solution": true,
     "task": false
    }
   },
   "outputs": [],
   "source": [
    "def load_dataset():\n",
    "    \"\"\"\n",
    "    Load the dataset that is in data/time_series_covid19_confirmed_US.csv\n",
    "    \n",
    "    Arguments:\n",
    "    None.\n",
    "    \n",
    "    Output:\n",
    "    `list_of_lines`: A list of the lines present in the file.\n",
    "    \n",
    "    \"\"\"\n",
    "    \n",
    "    # YOUR CODE HERE\n",
    "    file = open(\"data/time_series_covid19_confirmed_US.csv\", \"r\")\n",
    "    list_of_lines = file.readlines()\n",
    "    return list_of_lines"
   ]
  },
  {
   "cell_type": "markdown",
   "metadata": {
    "deletable": false,
    "editable": false,
    "nbgrader": {
     "cell_type": "markdown",
     "checksum": "ca0c7d6341158d53e76cb4f53765f9d9",
     "grade": false,
     "grade_id": "cell-f3faa19d09443a4f",
     "locked": true,
     "schema_version": 3,
     "solution": false,
     "task": false
    },
    "tags": [
     "7_min"
    ]
   },
   "source": [
    "## Exercise 2\n",
    "\n",
    "Iterate through each of the lines of the file you've just loaded. If the line starts with `Alabama`, `Florida` or `Vermont`, store it in another list called `keep_lines`; if it doesn't, just ignore it.\n",
    "\n",
    "**Hint:**\n",
    "\n",
    "You can **split** a string using this syntax:\n",
    "\n",
    "~~~python\n",
    "my_string.split(\"character_to_split_by\")\n",
    "~~~\n",
    "\n",
    "So, for instance,\n",
    "\n",
    "~~~python\n",
    "line.split(\",\")\n",
    "~~~\n",
    "\n",
    "Would split the line using a comma as the separator and output a list of strings. In the case of `time_series_covid19_confirmed_US.csv`, one of the strings in this list would correspond to the name of the state."
   ]
  },
  {
   "cell_type": "code",
   "execution_count": 49,
   "metadata": {
    "deletable": false,
    "nbgrader": {
     "cell_type": "code",
     "checksum": "1c7288a7b44d217399d84df89d5383b9",
     "grade": false,
     "grade_id": "cell-16e93f45c5f5b127",
     "locked": false,
     "schema_version": 3,
     "solution": true,
     "task": false
    }
   },
   "outputs": [],
   "source": [
    "def keep_three_states():\n",
    "    \"\"\"\n",
    "    Filters the dataset to keep only the data that corresponds to\n",
    "    Alabama, Florida and Vermont.\n",
    "    \n",
    "    Arguments:\n",
    "    None.\n",
    "    \n",
    "    Outputs:\n",
    "    `keep_lines`: A list of the lines of the dataset that correspond to either\n",
    "    of the three states.\n",
    "    \"\"\"\n",
    "    \n",
    "    dataset = load_dataset()\n",
    "    \n",
    "    keep_lines = []\n",
    "    \n",
    "    \n",
    "    # YOUR CODE HERE\n",
    "    for lines in dataset:\n",
    "        state = lines.split(\",\")[0]\n",
    "        if (state in \"Alabama\") or (state in \"Florida\") or (state in \"Vermont\"):\n",
    "            keep_lines.append(lines)\n",
    "    \n",
    "    return keep_lines"
   ]
  },
  {
   "cell_type": "markdown",
   "metadata": {
    "deletable": false,
    "editable": false,
    "nbgrader": {
     "cell_type": "markdown",
     "checksum": "e47f1a18220450ee427b5164baba9075",
     "grade": false,
     "grade_id": "cell-6f02dce26957e61f",
     "locked": true,
     "schema_version": 3,
     "solution": false,
     "task": false
    },
    "tags": [
     "5_min"
    ]
   },
   "source": [
    "## Exercise 3\n",
    "\n",
    "Create a file called `afv.csv` and iterate through the lines produced by `keep_three_states()` to store them in the file. Save the file to disk (the path should be `data/afv.csv`)."
   ]
  },
  {
   "cell_type": "code",
   "execution_count": 81,
   "metadata": {
    "deletable": false,
    "nbgrader": {
     "cell_type": "code",
     "checksum": "87b9f3a909c52566526eb5db9ed7de6d",
     "grade": false,
     "grade_id": "cell-d118393c487fd654",
     "locked": false,
     "schema_version": 3,
     "solution": true,
     "task": false
    }
   },
   "outputs": [],
   "source": [
    "def save_afv():\n",
    "    \"\"\"\n",
    "    Save the lines produced by `keep_three_states()`\n",
    "    to a file called `afv.csv` in the `data` folder.\n",
    "    \n",
    "    Arguments:\n",
    "    None.\n",
    "    \n",
    "    Outputs:\n",
    "    None.\n",
    "    \"\"\"\n",
    "    \n",
    "    keep_list = keep_three_states()\n",
    "\n",
    "    \n",
    "    # YOUR CODE HERE\n",
    "    keep_string = ''.join(map(str, keep_list))\n",
    "    save_to_file = open(\"data/afv.csv\", \"w\")\n",
    "    line = keep_string\n",
    "    save_to_file.write(line)\n",
    "    save_to_file.close()\n"
   ]
  },
  {
   "cell_type": "markdown",
   "metadata": {
    "deletable": false,
    "editable": false,
    "nbgrader": {
     "cell_type": "markdown",
     "checksum": "bda395d6b49b69db859d42b2848310da",
     "grade": false,
     "grade_id": "cell-072e05e85909b160",
     "locked": true,
     "schema_version": 3,
     "solution": false,
     "task": false
    }
   },
   "source": [
    "## Testing Cells\n",
    "\n",
    "Run the below cells to check your answers. Make sure you run your solution cells first before running the cells below, otherwise you will get a `NameError` when checking your answers."
   ]
  },
  {
   "cell_type": "code",
   "execution_count": 4,
   "metadata": {
    "deletable": false,
    "editable": false,
    "nbgrader": {
     "cell_type": "code",
     "checksum": "3f2472158e6357447b43aa94ee8829bc",
     "grade": true,
     "grade_id": "cell-6bcba8ed8779bb37",
     "locked": true,
     "points": 1,
     "schema_version": 3,
     "solution": false,
     "task": false
    }
   },
   "outputs": [
    {
     "name": "stdout",
     "output_type": "stream",
     "text": [
      "Exercise 1 looks correct!\n"
     ]
    }
   ],
   "source": [
    "# Ex 1\n",
    "assert len(load_dataset()) == 3341, \"Ex. 1 - Please check your results. Your output should be a list of 3341 strings, and the first row should be the headers of the dataset. Have a look at the first section of case 0.6 for a refresher on how to load files into Python.\"\n",
    "assert load_dataset()[0].split(\",\")[15] == '2/1/20', \"Ex. 1 - Please check your results. Your output should be a list of 3341 strings, and the first row should be the headers of the dataset. Have a look at the first section of case 0.6 for a refresher on how to load files into Python.\"\n",
    "print(\"Exercise 1 looks correct!\")"
   ]
  },
  {
   "cell_type": "code",
   "execution_count": 50,
   "metadata": {
    "deletable": false,
    "editable": false,
    "nbgrader": {
     "cell_type": "code",
     "checksum": "3e92ce56d23c6d496afe772ee9654c89",
     "grade": true,
     "grade_id": "cell-df896c1cc2afc536",
     "locked": true,
     "points": 1,
     "schema_version": 3,
     "solution": false,
     "task": false
    }
   },
   "outputs": [
    {
     "name": "stdout",
     "output_type": "stream",
     "text": [
      "Exercise 2 looks correct!\n"
     ]
    }
   ],
   "source": [
    "# Ex 2\n",
    "import pandas as pd\n",
    "c = pd.Series(keep_three_states()).str.split(\",\", expand=True).groupby([0]).count()[1]\n",
    "assert c[0] == 69, \"Ex. 2 - Please check your results. Your dataset doesn't have the correct number of counties for one of the states. Have a look at case 0.4 if you need a refresher on conditional logic.\"\n",
    "assert c[1] == 69, \"Ex. 2 - Please check your results. Your dataset doesn't have the correct number of counties for one of the states. Have a look at case 0.4 if you need a refresher on conditional logic.\"\n",
    "assert c[2] == 16, \"Ex. 2 - Please check your results. Your dataset doesn't have the correct number of counties for one of the states. Have a look at case 0.4 if you need a refresher on conditional logic.\"\n",
    "print(\"Exercise 2 looks correct!\")"
   ]
  },
  {
   "cell_type": "code",
   "execution_count": 82,
   "metadata": {
    "deletable": false,
    "editable": false,
    "nbgrader": {
     "cell_type": "code",
     "checksum": "63dcabf3d2bd4fadc10345bd4e40879b",
     "grade": true,
     "grade_id": "cell-b3474a68a1bbaa7e",
     "locked": true,
     "points": 1,
     "schema_version": 3,
     "solution": false,
     "task": false
    }
   },
   "outputs": [
    {
     "name": "stdout",
     "output_type": "stream",
     "text": [
      "Exercise 3 looks correct!\n"
     ]
    }
   ],
   "source": [
    "# Ex 3\n",
    "save_afv()\n",
    "import os.path\n",
    "from os import path\n",
    "assert path.exists(\"data/afv.csv\") == True, \"Ex. 3 - Are you sure you created the file? It doesn't seem to exist! If the file does exist, check that it was saved with the right name in the right directory. Have a look at the last section of case 0.6 to brush up on saving files to disk in Python.\"\n",
    "assert 154 == len(open(\"data/afv.csv\", \"r\").readlines()), \"Ex. 3 - Please check your results! Your file doesn't seem to have the right number of lines! Have a look at the last section of case 0.6 to brush up on saving files to disk in Python.\"\n",
    "print(\"Exercise 3 looks correct!\")"
   ]
  }
 ],
 "metadata": {
  "kernelspec": {
   "display_name": "Python 3",
   "language": "python",
   "name": "python3"
  },
  "language_info": {
   "codemirror_mode": {
    "name": "ipython",
    "version": 3
   },
   "file_extension": ".py",
   "mimetype": "text/x-python",
   "name": "python",
   "nbconvert_exporter": "python",
   "pygments_lexer": "ipython3",
   "version": "3.6.7"
  }
 },
 "nbformat": 4,
 "nbformat_minor": 2
}
